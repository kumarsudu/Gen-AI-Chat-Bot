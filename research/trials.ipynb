{
 "cells": [
  {
   "cell_type": "code",
   "execution_count": 1,
   "metadata": {},
   "outputs": [
    {
     "data": {
      "text/plain": [
       "'c:\\\\Projects\\\\Gen AI Projects\\\\Gen-AI-Chat-Bot\\\\research'"
      ]
     },
     "execution_count": 1,
     "metadata": {},
     "output_type": "execute_result"
    }
   ],
   "source": [
    "%pwd"
   ]
  },
  {
   "cell_type": "code",
   "execution_count": 2,
   "metadata": {},
   "outputs": [],
   "source": [
    "import os\n",
    "os.chdir(\"../\")"
   ]
  },
  {
   "cell_type": "code",
   "execution_count": 3,
   "metadata": {},
   "outputs": [
    {
     "data": {
      "text/plain": [
       "'c:\\\\Projects\\\\Gen AI Projects\\\\Gen-AI-Chat-Bot'"
      ]
     },
     "execution_count": 3,
     "metadata": {},
     "output_type": "execute_result"
    }
   ],
   "source": [
    "%pwd"
   ]
  },
  {
   "cell_type": "code",
   "execution_count": 4,
   "metadata": {},
   "outputs": [],
   "source": [
    "from langchain.document_loaders import PyPDFLoader, DirectoryLoader\n",
    "from langchain.text_splitter import RecursiveCharacterTextSplitter"
   ]
  },
  {
   "cell_type": "code",
   "execution_count": 5,
   "metadata": {},
   "outputs": [],
   "source": [
    "# Extract Data from the PDF file\n",
    "def load_pdf_file(data):\n",
    "    loader = DirectoryLoader(data, \n",
    "                             glob=\"*.pdf\",\n",
    "                             loader_cls=PyPDFLoader)\n",
    "    \n",
    "    documents = loader.load()\n",
    "\n",
    "    return documents"
   ]
  },
  {
   "cell_type": "code",
   "execution_count": 6,
   "metadata": {},
   "outputs": [],
   "source": [
    "extracted_data = load_pdf_file(data='Data/')"
   ]
  },
  {
   "cell_type": "code",
   "execution_count": null,
   "metadata": {},
   "outputs": [
    {
     "data": {
      "text/plain": [
       "[Document(metadata={'producer': 'Adobe PDF Library 5.0', 'creator': 'Adobe InDesign 2.0.2', 'creationdate': '2003-06-04T14:18:31+00:00', 'keywords': 'Common Dog Diseases and Health Problems, 4-H Companion Animal Health', 'moddate': '2021-04-20T13:11:38-04:00', 'subject': '4-H Companion Animal Health', 'title': 'Common Dog Diseases and Health Problems - 4-H-852', 'trapped': '/False', 'source': 'Data\\\\CommonDogDiseases.pdf', 'total_pages': 4, 'page': 0, 'page_label': '1'}, page_content='4-H-852-W4-H Companion Animal Health\\nCommon Dog Diseases  and        \\n Health Problems\\nWhether your dog is a working companion, cham-\\npion show animal, hunting partner, or just a best \\nfriend, the kindest and most responsible thing you \\ncan do for him is to provide proper health care. \\nKnowing about common dog diseases and being \\naware of appropriate prevention and treatment can \\nbetter help you provide that care.\\nMany Diseases Can Be \\nPrevented\\nSome of the most common and serious \\ndog diseases have been made less \\ncommon through vaccines; however, \\nthese diseases continue to threaten a \\ndog that lacks proper immunization. \\nPuppies may be vaccinated as early \\nas 4-6 weeks, depending on each \\nsituation and the veterinarian’s advice. \\nThrough mother’s milk, puppies receive \\ndisease-fighting antibodies, which last \\n6-16 weeks. Vaccinations then take \\nover. Yearly boosters should be given \\nthroughout your dog’s life, including old \\nage when your dog may become more \\nsusceptible to some diseases. The following \\ndiseases can be prevented through vaccinations.\\nDistemper. Canine distemper is caused by a highly \\ncontagious, airborne virus. It affects the dog’s respi-\\nratory, gastrointestinal, and nervous systems. Early \\nsymptoms are those of a “cold” — runny eyes and \\nnose, fever, cough, and often diarrhea. Later in the \\ncourse of disease there may be nervous twitching, \\nparalysis, and seizures (convulsions). There is no \\nsuccessful treatment.\\nHepatitis (Adenovirus). Canine infectious hepati-\\ntis is a viral disease transmitted by urine, feces, or \\nsaliva of infected animals. It affects the liver, kidney, \\nand blood vessels. The signs are fever, tissue \\nswelling, and hemorrhage. Treatment may require \\nblood transfusions and intensive care; often it is not \\nsuccessful.\\nLeptospirosis. Canine leptospirosis is caused by \\nbacteria spread through contact with nasal se-\\ncretions, urine, or saliva of infected animals. The \\ndisease also can infect humans. Lepto infects the \\nkidneys and causes fever, vomiting, diarrhea, and \\njaundice. Treatment requires antibiotics, intensive \\ncare, and intravenous (IV) fluid therapy. Dogs that \\nrecover may be left with permanent kidney damage.\\nKennel Cough. Canine infectious tracheobronchitis \\nis caused by several viruses (including parain-\\nfluenza) and bacteria (including bordetella). This \\nhighly contagious disease attacks the respi-\\nratory system, causing a chronic, dry, hack-\\ning cough. It is generally a mild infection, \\nbut it may progress to severe pneumonia \\nin young pups or old dogs. \\nTreatment can be helpful.\\nParvo. Canine parvovirus \\nis a deadly contagious viral \\ndisease that is spread by con-\\ntact with infected fecal material. \\nThe virus is difficult to kill and is \\neasily spread. It attacks the gastroin-\\ntestinal system, causing fever, lethargy, vomiting, \\nbloody diarrhea, and rapid dehydration. Treatment \\nrequires intensive IV fluid and supportive therapy \\nand has a variable rate of success.\\nCorona. Canine coronavirus is a highly contagious \\nviral infection attacking the gastrointestinal tract. \\nSigns are similar to parvovirus infection, except it is \\ngenerally milder and more effectively treated.\\nRabies. Rabies is a viral infection of all mammals, \\nincluding man. It is transmitted by the bite of an in-\\nfected animal. The virus infects the central nervous \\nsystem, causing a brain infection (encephalitis), \\nwhich is always fatal. There is no treatment for dog \\nor man after symptoms appear. However, a vaccine'),\n",
       " Document(metadata={'producer': 'Adobe PDF Library 5.0', 'creator': 'Adobe InDesign 2.0.2', 'creationdate': '2003-06-04T14:18:31+00:00', 'keywords': 'Common Dog Diseases and Health Problems, 4-H Companion Animal Health', 'moddate': '2021-04-20T13:11:38-04:00', 'subject': '4-H Companion Animal Health', 'title': 'Common Dog Diseases and Health Problems - 4-H-852', 'trapped': '/False', 'source': 'Data\\\\CommonDogDiseases.pdf', 'total_pages': 4, 'page': 1, 'page_label': '2'}, page_content='4-H Companion Animal Health 4-H-852-W\\n2\\nis effective in preventing the disease in people if it \\nis administered soon after their possible exposure. \\nBecause of the serious public health threat, Indiana \\nlaw requires a rabies vaccination for all dogs.\\nInternal Parasites\\nThe most common internal intestinal parasites are \\ntapeworms and roundworms.\\nTapeworms. Tapeworms are long, segmented \\nworms. They are transmitted when a dog ingests \\na larval stage of the worm found in a \\nflea or the raw meat of small mam-\\nmals. A dog that hunts on its own \\nor has had fleas will likely develop \\ntapeworms. Individual tapeworm \\nsegments are easily seen in freshly \\npassed feces or around the anus of \\nan infected dog. Special dewormers \\nare required for treatment.\\nRoundworms. The roundworm \\nclassification encompasses many \\nworm types, including ascarids, \\nhookworms, whipworms, and \\nheartworms. The intestinal worms \\nare transmitted by the ingestion of \\nfeces or feces-contaminated soil \\nthat contains worm eggs. The transmission of the \\nheartworm, however, requires an intermediate host \\nsuch as a mosquito for propagation. Your veterinar-\\nian will perform a specialized microscopic exami-\\nnation of feces (for intestinal worms) or blood (for \\nheartworms) to determine the presence of round-\\nworms. Treatment or prevention with medication is \\neffective, but it should be repeated regularly and \\nmonitored to determine if reinfection has occurred. \\nDeworm a dog with a veterinarian’s supervision.\\nThe following describes in more detail the four \\ntypes of roundworms mentioned above.\\nAscarids are long, thin spaghetti-like worms that in-\\nhabit the intestine. Some types of these worms can \\nbe seen in an infected dog’s feces. These worms \\ncommonly create a problem in pups, where they \\ncause stunted growth, lethargy, diarrhea, vomiting, \\nand a pot-bellied appearance. In severe cases, \\nascarids can cause seizures (convulsions).\\nHookworms are tiny worms that attach them-\\nselves to the intestinal wall and suck blood from the \\ndog. They can be transmitted in utero and via the \\nmother’s milk to newborn pups. Consequently, pups \\nmay have hookworms at a very early age. Signs of \\ninfection include lethargy, stunted growth, anemia, \\nand dark, tarry feces. Hookworms are a life-threat-\\nening parasite at any age. Blood transfusions may \\nbe necessary in advanced cases.\\nWhipworms are tiny worms that inhabit and de-\\nvelop in the lower bowel. They often cause chronic \\nwatery diarrhea and weight loss. Their life cycle is \\nlonger than most intestinal parasites, and proper \\ntiming of repeated deworming is impor-\\ntant for their control.\\nHeartworms are devastating \\ninternal parasites that live in a dog’s \\nheart and in the big vessels near \\nthe heart, where they cause severe \\ndamage to the circulatory system and \\nlungs. They are transmitted by the \\nbite of a mosquito that has bitten an \\ninfected dog. Treatment is difficult, \\nbut preventive measures are avail-\\nable. Dogs should have a blood test \\nfor heartworms in early spring before \\nmosquito season begins. If the test is \\npositive, treatment may be attempt-\\ned. If the test is negative, preventive \\nmedication can be given to your dog \\ndaily or on a monthly basis throughout the mosquito \\nseason. Consult with your veterinarian to determine \\nthe best heartworm prevention plan for your dog.\\nExternal Parasites\\nExternal parasites are “bugs” (insects) that live on \\nthe outside of a dog’s body. They include fleas, \\nticks, lice, flies, mosquitoes, mites, and others. \\nThey not only cause irritation, but also may transmit \\ndiseases and cause disease in humans. Careful \\nskin examination by a veterinarian can detect these \\nparasites.\\nFleas are readily seen in a dog’s haircoat. They \\nare pencil-lead size, brown, compressed side to \\nside and seem to be in constant motion. They are \\nseen most easily at the base of the tail, between \\nthe ears, or in the short hair on the abdomen. Even \\nif the flea is not visible, black specks of excre-\\nment may be seen. Many treatments are available; \\nhowever, the dog’s environment must be treated \\njust as vigorously, since the flea actually spends \\nmore time off the dog than on. Flea control should'),\n",
       " Document(metadata={'producer': 'Adobe PDF Library 5.0', 'creator': 'Adobe InDesign 2.0.2', 'creationdate': '2003-06-04T14:18:31+00:00', 'keywords': 'Common Dog Diseases and Health Problems, 4-H Companion Animal Health', 'moddate': '2021-04-20T13:11:38-04:00', 'subject': '4-H Companion Animal Health', 'title': 'Common Dog Diseases and Health Problems - 4-H-852', 'trapped': '/False', 'source': 'Data\\\\CommonDogDiseases.pdf', 'total_pages': 4, 'page': 2, 'page_label': '3'}, page_content='be implemented at the earliest sign of flea infes-\\ntation because fleas multiply rapidly and a small \\nproblem becomes a major one in just a few days. \\nWhile most dogs scratch with fleas, some dogs are \\nalso allergic to flea saliva. For them, one flea bite \\ncan set off an allergic reaction of severe skin inflam-\\nmation. A flea-allergic dog will require medication \\nto relieve the skin inflammation in addition to flea \\ncontrol.\\nTicks are most prevalent in early spring and are \\nmost commonly found on outdoor dogs that get into \\nunderbrush and wooded areas. Ticks can transmit \\nseveral diseases (including Rocky Mountain Spot-\\nted Fever) and should be removed with care. Grasp \\nthe tick near its head with a pair of tweezers and \\npull away from the skin with a firm tug. Do not try to \\nkill the tick first with fire or chemicals. Disinfect the \\narea with alcohol to prevent infection. Ticks should \\nbe controlled by daily inspection and removal or, in \\nheavy infestations, by the regular use of chemical \\ndips.\\nLice are small, light-colored parasites that are \\ntransmitted dog to dog. They can be seen at the \\nbase of the hair. Signs of lice infestation (pedicu-\\nlosis) are a rough and dry haircoat, matted hair, and \\nscratching and biting of the skin. Lice are effectively \\ntreated with a variety of chemicals available from a \\nveterinarian.\\nMange mites cause two types \\nof mange in dogs. Sarcop-\\ntic mange is caused by the \\nsarcoptic mite, a microscopic \\nparasite similar to a chigger. \\nThese mites are transmitted from \\ndog to dog and can also infect \\nhuman skin. They burrow into the \\nskin and cause severe itching \\nand consequent skin irritation \\nand inflammation. Hair loss \\ncan be severe and generalized \\nover the body. Diagnosis by a \\nveterinarian is essential, and treatment is usu-\\nally quite effective. All animals in contact with the \\ninfected dog should be treated at the same time. \\nDemodectic mange is caused by demodectic \\nmites that destroy the hair follicle in which they \\nreside. This causes small patches of hair loss that \\ncan spread to the entire body. The initial skin le-\\nsions may become infected and are difficult to treat. \\nThe tendency to develop demodectic mange is \\nthought to be hereditary. It is seen most frequently \\nin purebred dogs. Demodectic mange is not con-\\ntagious. Diagnosis and treatment by a veterinarian \\nare necessary; treatment is difficult.\\nEar mites tunnel in the skin of the outer ear ca-\\nnal. They are easily transmitted from dog to dog \\nor cat to dog. They can be seen in the ear with \\nmagnification. Ear mites are suspected when dark \\ncoffee-ground debris is present in the ears. Infesta-\\ntion signs are head shaking and scratching at the \\nears. Left untreated, ear mites predispose the ear \\nto secondary bacterial infection. Treatment requires \\ncleaning of the ear by a veterinarian and use of \\nmite-killing insecticide. Be sure to treat any other \\ncats or dogs in the household.\\nOther Common Problems\\nEar infections are a common problem in dogs, \\nespecially those breeds with a heavy earflap. \\nInfections are caused by bacteria or yeast that \\ngrow in the ear when the ear’s normal environment \\nis changed for any reason. Ear mites, ticks, and \\nwater or grass awns in the ear can be predisposing \\nfactors. (Grass awns are slender, bristlelike ap-\\npendages on the tips of many grasses. Dogs can \\nget them in their ears as they run \\nthrough fields.)\\nSigns of ear infections are \\nhead shaking, pawing or dig-\\nging at the ear, pain, redness, \\nand inflammation of the ear \\ncanal, and a foul smell in the \\near. Any ear infection should be \\nexamined by a veterinarian for \\nproper treatment. To prevent ear \\nproblems: \\n• Examine your dogs ears at least once \\nweekly.\\n• Try to prevent water from getting in \\nyour dog’s ears when bathing the dog.\\n• Ask a veterinarian for advice on wax \\ncontrol and routine ear cleaning.\\nDental problems arise frequently and need at-\\ntention. Drooling and/or foul odors coming from the \\nmouth are signals. Regular veterinary advice and \\nmaintenance programs are necessary to prevent \\nthis disorder.\\n4-H Companion Animal Health 4-H-852-W\\n3'),\n",
       " Document(metadata={'producer': 'Adobe PDF Library 5.0', 'creator': 'Adobe InDesign 2.0.2', 'creationdate': '2003-06-04T14:18:31+00:00', 'keywords': 'Common Dog Diseases and Health Problems, 4-H Companion Animal Health', 'moddate': '2021-04-20T13:11:38-04:00', 'subject': '4-H Companion Animal Health', 'title': 'Common Dog Diseases and Health Problems - 4-H-852', 'trapped': '/False', 'source': 'Data\\\\CommonDogDiseases.pdf', 'total_pages': 4, 'page': 3, 'page_label': '4'}, page_content='Dog anal sac problems also occur, causing \\nconsiderable animal discomfort. Anal glands may \\nbecome infected, causing drainage and foul odors \\nat times. The dog may exhibit uneasy behavior \\nsuch as rear-end scooting or nipping at the tail \\narea. A simple procedure may relieve the animal; \\nin severe cases, antibiotic treatment or surgical \\nintervention is necessary.\\nRegular visits to the veterinarian are important \\nto prevent or correct serious health problems. To \\nprovide proper care and comfort for your dog, be \\naware of potentially serious situations and take \\npreventative measures.\\nWritten by Dr. Duane Rice, University of \\nNebraska Extension veterinarian, and Dr. Diana \\nLongfellow, practitioner, Broken Bow, Neb. \\nReprinted with the permission of the Nebraska \\nCooperative Extension Service by Colleen Brady, \\nPh.D., Extension specialist, Department of 4-H \\nYouth Development, Purdue University.\\nRevised 6/03\\nIt is the policy of the Purdue University Cooperative Extension Service, David C. Petritz, Director, that all persons shall have equal opportunity and access to the programs \\nand facilities without regard to race, color, sex, religion, national origin, age, marital status, parental status, sexual orientation, or disability. \\nPurdue University is an Affirmative Action institution.\\nThis material may be available in alternative formats.\\n1-888-EXT-INFO\\nhttp://www.ces.purdue.edu/extmedia\\n4-H Companion Animal Health 4-H-852-W\\n4')]"
      ]
     },
     "execution_count": 8,
     "metadata": {},
     "output_type": "execute_result"
    }
   ],
   "source": [
    "# extracted_data"
   ]
  },
  {
   "cell_type": "code",
   "execution_count": 9,
   "metadata": {},
   "outputs": [],
   "source": [
    "# Split the Data into Text Chunks\n",
    "def text_split(extracted_data):\n",
    "    text_splitter = RecursiveCharacterTextSplitter(chunk_size=500, chunk_overlap=20)\n",
    "    text_chunks = text_splitter.split_documents(extracted_data)\n",
    "    return text_chunks"
   ]
  },
  {
   "cell_type": "code",
   "execution_count": 10,
   "metadata": {},
   "outputs": [
    {
     "name": "stdout",
     "output_type": "stream",
     "text": [
      "Length of Text chunks 30\n"
     ]
    }
   ],
   "source": [
    "text_chunks = text_split(extracted_data)\n",
    "print(\"Length of Text chunks\", len(text_chunks))"
   ]
  },
  {
   "cell_type": "code",
   "execution_count": 11,
   "metadata": {},
   "outputs": [],
   "source": [
    "## Import the HuggingFaceEmbeddings\n",
    "# from langchain.embeddings import HuggingFaceEmbeddings # old version\n",
    "from langchain_huggingface import HuggingFaceEmbeddings"
   ]
  },
  {
   "cell_type": "code",
   "execution_count": 12,
   "metadata": {},
   "outputs": [],
   "source": [
    "# Download the Embeddings from Hugging face\n",
    "def download_hugging_face_embeddings():\n",
    "    embeddings = HuggingFaceEmbeddings(model_name='sentence-transformers/all-MiniLM-L6-v2')\n",
    "    return embeddings"
   ]
  },
  {
   "cell_type": "code",
   "execution_count": 13,
   "metadata": {},
   "outputs": [
    {
     "name": "stderr",
     "output_type": "stream",
     "text": [
      "c:\\Users\\ADMIN\\anaconda3\\envs\\pdfChatbot\\lib\\site-packages\\tqdm\\auto.py:21: TqdmWarning: IProgress not found. Please update jupyter and ipywidgets. See https://ipywidgets.readthedocs.io/en/stable/user_install.html\n",
      "  from .autonotebook import tqdm as notebook_tqdm\n"
     ]
    }
   ],
   "source": [
    "# %pip install sentence-transformers\n",
    "embeddings = download_hugging_face_embeddings()"
   ]
  },
  {
   "cell_type": "code",
   "execution_count": 14,
   "metadata": {},
   "outputs": [
    {
     "name": "stdout",
     "output_type": "stream",
     "text": [
      "Length 384\n"
     ]
    }
   ],
   "source": [
    "query_result = embeddings.embed_query(\"Hello world\")\n",
    "print(\"Length\", len(query_result))"
   ]
  },
  {
   "cell_type": "code",
   "execution_count": 24,
   "metadata": {},
   "outputs": [],
   "source": [
    "# Complete vector\n",
    "#query_result"
   ]
  },
  {
   "cell_type": "code",
   "execution_count": 30,
   "metadata": {},
   "outputs": [
    {
     "data": {
      "text/plain": [
       "True"
      ]
     },
     "execution_count": 30,
     "metadata": {},
     "output_type": "execute_result"
    }
   ],
   "source": [
    "from dotenv import load_dotenv\n",
    "load_dotenv()\n"
   ]
  },
  {
   "cell_type": "code",
   "execution_count": 31,
   "metadata": {},
   "outputs": [],
   "source": [
    "PINECONE_API_KEY = os.environ.get(\"PINECONE_API_KEY\")\n",
    "OPENAI_API_KEY = os.environ.get(\"OPENAI_API_KEY\")"
   ]
  },
  {
   "cell_type": "code",
   "execution_count": 18,
   "metadata": {},
   "outputs": [
    {
     "data": {
      "text/plain": [
       "{\n",
       "    \"name\": \"pdfchatbotindex1\",\n",
       "    \"metric\": \"cosine\",\n",
       "    \"host\": \"pdfchatbotindex1-cx1rjh9.svc.aped-4627-b74a.pinecone.io\",\n",
       "    \"spec\": {\n",
       "        \"serverless\": {\n",
       "            \"cloud\": \"aws\",\n",
       "            \"region\": \"us-east-1\"\n",
       "        }\n",
       "    },\n",
       "    \"status\": {\n",
       "        \"ready\": true,\n",
       "        \"state\": \"Ready\"\n",
       "    },\n",
       "    \"vector_type\": \"dense\",\n",
       "    \"dimension\": 384,\n",
       "    \"deletion_protection\": \"disabled\",\n",
       "    \"tags\": null\n",
       "}"
      ]
     },
     "execution_count": 18,
     "metadata": {},
     "output_type": "execute_result"
    }
   ],
   "source": [
    "from pinecone.grpc import PineconeGRPC as Pinecone\n",
    "\n",
    "from pinecone import ServerlessSpec\n",
    "\n",
    "pc = Pinecone(api_key=PINECONE_API_KEY)\n",
    "\n",
    "index_name = \"pdfchatbotindex1\"\n",
    "\n",
    "pc.create_index(\n",
    "    name = index_name,\n",
    "    dimension=384,\n",
    "    metric=\"cosine\",\n",
    "    spec=ServerlessSpec(\n",
    "        cloud=\"aws\",\n",
    "        region=\"us-east-1\"\n",
    "    )\n",
    ")"
   ]
  },
  {
   "cell_type": "code",
   "execution_count": 32,
   "metadata": {},
   "outputs": [],
   "source": [
    "os.environ[\"PINECONE_API_KEY\"] = PINECONE_API_KEY\n",
    "os.environ[\"OPENAI_API_KEY\"] = OPENAI_API_KEY\n"
   ]
  },
  {
   "cell_type": "code",
   "execution_count": 20,
   "metadata": {},
   "outputs": [],
   "source": [
    "# Embed each chunk and upsert the embeddings into your Pinecone Index\n",
    "from langchain_pinecone import PineconeVectorStore\n",
    "\n",
    "docsearch  = PineconeVectorStore.from_documents(\n",
    "    documents = text_chunks,\n",
    "    index_name = index_name,\n",
    "    embedding=embeddings\n",
    ")"
   ]
  },
  {
   "cell_type": "code",
   "execution_count": null,
   "metadata": {},
   "outputs": [
    {
     "data": {
      "text/plain": [
       "<langchain_pinecone.vectorstores.PineconeVectorStore at 0x16f6952d510>"
      ]
     },
     "execution_count": 21,
     "metadata": {},
     "output_type": "execute_result"
    }
   ],
   "source": [
    "# docsearch"
   ]
  },
  {
   "cell_type": "code",
   "execution_count": 22,
   "metadata": {},
   "outputs": [],
   "source": [
    "# Load existing Index\n",
    "# Embed each chunk and upsert the embeddings into your Pinecone Index\n",
    "docSearch = PineconeVectorStore.from_existing_index(\n",
    "    index_name= index_name,\n",
    "    embedding=embeddings\n",
    ")"
   ]
  },
  {
   "cell_type": "code",
   "execution_count": null,
   "metadata": {},
   "outputs": [
    {
     "data": {
      "text/plain": [
       "<langchain_pinecone.vectorstores.PineconeVectorStore at 0x16f53e2b1c0>"
      ]
     },
     "execution_count": 23,
     "metadata": {},
     "output_type": "execute_result"
    }
   ],
   "source": [
    "# docSearch"
   ]
  },
  {
   "cell_type": "code",
   "execution_count": 24,
   "metadata": {},
   "outputs": [],
   "source": [
    "# retrive the similarity search\n",
    "retriever = docSearch.as_retriever(search_type=\"similarity\", search_kwargs={\"k\":3})"
   ]
  },
  {
   "cell_type": "code",
   "execution_count": 25,
   "metadata": {},
   "outputs": [],
   "source": [
    "retriever_docs = retriever.invoke(\"What is Ear mites?\")"
   ]
  },
  {
   "cell_type": "code",
   "execution_count": 26,
   "metadata": {},
   "outputs": [
    {
     "data": {
      "text/plain": [
       "[Document(id='a79bb0fc-f104-4654-a033-1345e849eb1d', metadata={'creationdate': '2003-06-04T14:18:31+00:00', 'creator': 'Adobe InDesign 2.0.2', 'keywords': 'Common Dog Diseases and Health Problems, 4-H Companion Animal Health', 'moddate': '2021-04-20T13:11:38-04:00', 'page': 2.0, 'page_label': '3', 'producer': 'Adobe PDF Library 5.0', 'source': 'Data\\\\CommonDogDiseases.pdf', 'subject': '4-H Companion Animal Health', 'title': 'Common Dog Diseases and Health Problems - 4-H-852', 'total_pages': 4.0, 'trapped': '/False'}, page_content='Ear mites tunnel in the skin of the outer ear ca-\\nnal. They are easily transmitted from dog to dog \\nor cat to dog. They can be seen in the ear with \\nmagnification. Ear mites are suspected when dark \\ncoffee-ground debris is present in the ears. Infesta-\\ntion signs are head shaking and scratching at the \\nears. Left untreated, ear mites predispose the ear \\nto secondary bacterial infection. Treatment requires \\ncleaning of the ear by a veterinarian and use of'),\n",
       " Document(id='39abdd4f-fcce-4629-a569-9d05f4287d14', metadata={'creationdate': '2003-06-04T14:18:31+00:00', 'creator': 'Adobe InDesign 2.0.2', 'keywords': 'Common Dog Diseases and Health Problems, 4-H Companion Animal Health', 'moddate': '2021-04-20T13:11:38-04:00', 'page': 2.0, 'page_label': '3', 'producer': 'Adobe PDF Library 5.0', 'source': 'Data\\\\CommonDogDiseases.pdf', 'subject': '4-H Companion Animal Health', 'title': 'Common Dog Diseases and Health Problems - 4-H-852', 'total_pages': 4.0, 'trapped': '/False'}, page_content='mite-killing insecticide. Be sure to treat any other \\ncats or dogs in the household.\\nOther Common Problems\\nEar infections are a common problem in dogs, \\nespecially those breeds with a heavy earflap. \\nInfections are caused by bacteria or yeast that \\ngrow in the ear when the ear’s normal environment \\nis changed for any reason. Ear mites, ticks, and \\nwater or grass awns in the ear can be predisposing \\nfactors. (Grass awns are slender, bristlelike ap-\\npendages on the tips of many grasses. Dogs can'),\n",
       " Document(id='722cc344-813f-40a8-a8a3-f03cfaf3fa04', metadata={'creationdate': '2003-06-04T14:18:31+00:00', 'creator': 'Adobe InDesign 2.0.2', 'keywords': 'Common Dog Diseases and Health Problems, 4-H Companion Animal Health', 'moddate': '2021-04-20T13:11:38-04:00', 'page': 2.0, 'page_label': '3', 'producer': 'Adobe PDF Library 5.0', 'source': 'Data\\\\CommonDogDiseases.pdf', 'subject': '4-H Companion Animal Health', 'title': 'Common Dog Diseases and Health Problems - 4-H-852', 'total_pages': 4.0, 'trapped': '/False'}, page_content='heavy infestations, by the regular use of chemical \\ndips.\\nLice are small, light-colored parasites that are \\ntransmitted dog to dog. They can be seen at the \\nbase of the hair. Signs of lice infestation (pedicu-\\nlosis) are a rough and dry haircoat, matted hair, and \\nscratching and biting of the skin. Lice are effectively \\ntreated with a variety of chemicals available from a \\nveterinarian.\\nMange mites cause two types \\nof mange in dogs. Sarcop-\\ntic mange is caused by the')]"
      ]
     },
     "execution_count": 26,
     "metadata": {},
     "output_type": "execute_result"
    }
   ],
   "source": [
    "retriever_docs"
   ]
  },
  {
   "cell_type": "code",
   "execution_count": 33,
   "metadata": {},
   "outputs": [],
   "source": [
    "from langchain_openai import OpenAI\n",
    "llm = OpenAI(temperature=0.4, max_tokens=500)\n"
   ]
  },
  {
   "cell_type": "code",
   "execution_count": 45,
   "metadata": {},
   "outputs": [],
   "source": [
    "from langchain.chains import create_retrieval_chain\n",
    "from langchain.chains.combine_documents import create_stuff_documents_chain\n",
    "from langchain_core.prompts import ChatPromptTemplate\n",
    "\n",
    "system_prompt = (\n",
    "    \"You are an assistant for question-answering tasks.\"\n",
    "    \"Use ONLY the following retrieved context to answer the question.\"\n",
    "    \"If the answer cannot be explicitly found in the provided context, say: 'I don't know.'\"\n",
    "    \"Do NOT attempt to make up an answer.\"\n",
    "    \"Keep the response concise, within three sentences.\"\n",
    "    \"\\n\\n\"\n",
    "    \"{context}\"\n",
    ")\n",
    "\n",
    "prompt = ChatPromptTemplate.from_messages(\n",
    "    [\n",
    "        (\"system\", system_prompt),\n",
    "        (\"human\", \"{input}\"),\n",
    "    ]\n",
    ")"
   ]
  },
  {
   "cell_type": "code",
   "execution_count": 46,
   "metadata": {},
   "outputs": [],
   "source": [
    "question_answer_chain = create_stuff_documents_chain(llm, prompt)\n",
    "rag_chain = create_retrieval_chain(retriever, question_answer_chain)"
   ]
  },
  {
   "cell_type": "code",
   "execution_count": 47,
   "metadata": {},
   "outputs": [
    {
     "name": "stdout",
     "output_type": "stream",
     "text": [
      "\n",
      "\n",
      "Ear mites are tiny parasites that live in the skin of the outer ear canal and can be easily transmitted from one dog or cat to another. They can be seen with magnification and are suspected when dark coffee-ground debris is present in the ears. If left untreated, they can lead to secondary bacterial infections. Treatment involves cleaning the ear and using a mite-killing insecticide, as well as treating any other pets in the household.\n"
     ]
    }
   ],
   "source": [
    "response = rag_chain.invoke({\"input\": \"What is Ear mites?\"})\n",
    "print(response[\"answer\"])"
   ]
  },
  {
   "cell_type": "code",
   "execution_count": 50,
   "metadata": {},
   "outputs": [
    {
     "name": "stdout",
     "output_type": "stream",
     "text": [
      "\n",
      "I don't know.\n"
     ]
    }
   ],
   "source": [
    "response = rag_chain.invoke({\"input\": \"What is Generative AI?\"})\n",
    "print(response[\"answer\"])"
   ]
  }
 ],
 "metadata": {
  "kernelspec": {
   "display_name": "pdfChatbot",
   "language": "python",
   "name": "python3"
  },
  "language_info": {
   "codemirror_mode": {
    "name": "ipython",
    "version": 3
   },
   "file_extension": ".py",
   "mimetype": "text/x-python",
   "name": "python",
   "nbconvert_exporter": "python",
   "pygments_lexer": "ipython3",
   "version": "3.10.16"
  }
 },
 "nbformat": 4,
 "nbformat_minor": 2
}
